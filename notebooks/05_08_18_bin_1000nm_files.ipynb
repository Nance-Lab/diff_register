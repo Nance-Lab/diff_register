{
 "cells": [
  {
   "cell_type": "code",
   "execution_count": 1,
   "metadata": {},
   "outputs": [],
   "source": [
    "import os\n",
    "import numpy as np\n",
    "import cloudknot as ck"
   ]
  },
  {
   "cell_type": "code",
   "execution_count": 2,
   "metadata": {},
   "outputs": [],
   "source": [
    "slices = [1, 2, 3]\n",
    "videos = [1, 2, 3, 4, 5]\n",
    "func = ['PEG', 'COOH']\n",
    "\n",
    "files = []\n",
    "start_knot = 8\n",
    "for slic in slices:\n",
    "    for video in videos:\n",
    "        for fun in func:\n",
    "            files.append('1000nm_{}_P1_S{}_XY{}.tif'.format(fun, slic, video))"
   ]
  },
  {
   "cell_type": "code",
   "execution_count": 3,
   "metadata": {},
   "outputs": [],
   "source": [
    "def bin_images(file):\n",
    "    import diff_classifier.aws as aws\n",
    "    import skimage.io as sio\n",
    "    from skimage import transform as tf\n",
    "    import numpy as np\n",
    "    \n",
    "    rfolder = 'Tissue_Studies/04_30_18_JBSS_in_Tissue'\n",
    "    rfile = '{}/{}'.format(rfolder, file)\n",
    "    aws.download_s3(rfile, file, bucket_name='ccurtis.data')\n",
    "    \n",
    "    def tiff_resize(fname, factor=10):\n",
    "        massive = sio.imread(fname)\n",
    "        dims = massive.shape\n",
    "        small = tf.resize(massive, (dims[0], dims[1]//factor, dims[2]//factor))\n",
    "        nfname = '{}_sm.tif'.format(fname.split('.')[0])\n",
    "        \n",
    "        sio.imsave(nfname, small)\n",
    "        return nfname, small\n",
    "    \n",
    "    nfname, small = tiff_resize(file, factor=4)\n",
    "    print('Successfully binned image')\n",
    "    \n",
    "    rnfile = '{}/{}'.format(rfolder, nfname)\n",
    "    aws.upload_s3(nfname, rnfile, bucket_name='ccurtis.data')"
   ]
  },
  {
   "cell_type": "code",
   "execution_count": 4,
   "metadata": {},
   "outputs": [],
   "source": [
    "github_installs=('https://github.com/ccurtis7/diff_classifier.git')\n",
    "my_image = ck.DockerImage(func=bin_images, base_image='arokem/python3-fiji:0.3', github_installs=github_installs)"
   ]
  },
  {
   "cell_type": "code",
   "execution_count": 5,
   "metadata": {},
   "outputs": [],
   "source": [
    "#Test Docker Image\n",
    "#Change skimage to scikit-image and change boto3 version to 1.5.28\n",
    "my_image.build(\"0.1\", image_name=\"test_image\")"
   ]
  },
  {
   "cell_type": "code",
   "execution_count": 6,
   "metadata": {},
   "outputs": [],
   "source": [
    "knot = ck.Knot(name='bin_images_{}'.format(start_knot),\n",
    "               docker_image = my_image,\n",
    "               memory = 100000,\n",
    "               resource_type = 'SPOT',\n",
    "               bid_percentage = 100,\n",
    "               image_id = 'ami-0de34a0a338c1051b',\n",
    "               pars_policies=('AmazonS3FullAccess',))\n",
    "              \n",
    "result_futures = knot.map(files)"
   ]
  },
  {
   "cell_type": "code",
   "execution_count": null,
   "metadata": {},
   "outputs": [],
   "source": [
    "knot.clobber()"
   ]
  },
  {
   "cell_type": "code",
   "execution_count": null,
   "metadata": {},
   "outputs": [],
   "source": [
    "import diff_classifier.aws as aws\n",
    "import skimage.io as sio\n",
    "from skimage import transform as tf\n",
    "import numpy as np\n",
    "file = files[0]\n",
    "rfolder = 'Tissue_Studies/04_30_18_JBSS_in_Tissue'\n",
    "rfile = '{}/{}'.format(rfolder, file)\n",
    "aws.download_s3(rfile, file, bucket_name='ccurtis.data')"
   ]
  },
  {
   "cell_type": "code",
   "execution_count": null,
   "metadata": {},
   "outputs": [],
   "source": [
    "def tiff_resize(fname, factor=10):\n",
    "    massive = sio.imread(fname)\n",
    "    dims = massive.shape\n",
    "    small = np.moveaxis(tf.resize(massive, (dims[0], dims[1]//factor, dims[2]//factor)), 0, -1)\n",
    "    nfname = '{}_sm.tif'.format(fname.split('.')[0])\n",
    "\n",
    "    sio.imsave(nfname, small)\n",
    "    return nfname, small"
   ]
  },
  {
   "cell_type": "code",
   "execution_count": null,
   "metadata": {},
   "outputs": [],
   "source": [
    "massive = sio.imread(file)"
   ]
  },
  {
   "cell_type": "code",
   "execution_count": null,
   "metadata": {},
   "outputs": [],
   "source": [
    "test = np.moveaxis(massive, 0, -1)\n",
    "test2 = test[0:100, 0:100, 0:10]"
   ]
  },
  {
   "cell_type": "code",
   "execution_count": null,
   "metadata": {},
   "outputs": [],
   "source": [
    "test3 = test[0:500, 0:500, 0:10]"
   ]
  },
  {
   "cell_type": "code",
   "execution_count": null,
   "metadata": {},
   "outputs": [],
   "source": [
    "test3.shape"
   ]
  },
  {
   "cell_type": "code",
   "execution_count": null,
   "metadata": {},
   "outputs": [],
   "source": [
    "sio.imsave('test.tif', massive[:, 0:100, 0:100])"
   ]
  },
  {
   "cell_type": "code",
   "execution_count": null,
   "metadata": {},
   "outputs": [],
   "source": [
    "nfname, small = tiff_resize('test.tif', factor=4)"
   ]
  },
  {
   "cell_type": "code",
   "execution_count": null,
   "metadata": {},
   "outputs": [],
   "source": [
    "fname = 'test.tif'\n",
    "factor = 4\n",
    "massive = sio.imread(fname)\n",
    "dims = massive.shape"
   ]
  },
  {
   "cell_type": "code",
   "execution_count": null,
   "metadata": {},
   "outputs": [],
   "source": [
    "small = np.moveaxis(tf.resize(massive, (dims[0], dims[1]//factor, dims[2]//factor)), 0, -1)\n",
    "nfname = '{}_sm.tif'.format(fname.split('.')[0])\n",
    "\n",
    "sio.imsave(nfname, small)"
   ]
  },
  {
   "cell_type": "code",
   "execution_count": null,
   "metadata": {},
   "outputs": [],
   "source": [
    "tiff_resize('test.tif', factor=4)"
   ]
  },
  {
   "cell_type": "code",
   "execution_count": null,
   "metadata": {},
   "outputs": [],
   "source": [
    "2048/4"
   ]
  },
  {
   "cell_type": "code",
   "execution_count": null,
   "metadata": {},
   "outputs": [],
   "source": []
  }
 ],
 "metadata": {
  "kernelspec": {
   "display_name": "Python 2",
   "language": "python",
   "name": "python2"
  },
  "language_info": {
   "codemirror_mode": {
    "name": "ipython",
    "version": 2
   },
   "file_extension": ".py",
   "mimetype": "text/x-python",
   "name": "python",
   "nbconvert_exporter": "python",
   "pygments_lexer": "ipython2",
   "version": "2.7.12"
  }
 },
 "nbformat": 4,
 "nbformat_minor": 2
}
