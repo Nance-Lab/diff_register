{
 "cells": [
  {
   "cell_type": "code",
   "execution_count": 1,
   "metadata": {},
   "outputs": [],
   "source": [
    "import numpy as np\n",
    "import pandas as pd\n",
    "import diff_classifier.aws as aws\n",
    "import diff_classifier.msd as msd\n",
    "import diff_classifier.heatmaps as hm\n",
    "import skimage.io as sio\n",
    "from skimage.filters import rank\n",
    "from skimage.morphology import square\n",
    "import matplotlib.pyplot as plt\n",
    "import diff_register.im_process as imp\n",
    "import xml.etree.ElementTree as et"
   ]
  },
  {
   "cell_type": "code",
   "execution_count": 2,
   "metadata": {},
   "outputs": [],
   "source": [
    "prefix = '100nm_S1_XY2_3'\n",
    "fname = 'features_{}.csv'.format(prefix)\n",
    "features = pd.read_csv(fname, index_col='Unnamed: 0')"
   ]
  },
  {
   "cell_type": "code",
   "execution_count": null,
   "metadata": {},
   "outputs": [],
   "source": [
    "gmean1, gSEM1 = hm.plot_individual_msds(prefix, alpha=0.05, x_range=2, y_range=1, upload=False)"
   ]
  },
  {
   "cell_type": "code",
   "execution_count": 3,
   "metadata": {},
   "outputs": [],
   "source": [
    "rfolder = 'Tissue_Studies/04_23_18_Registration_Test'\n",
    "mname = 'S2_mglia_reg.tif'\n",
    "rname = '{}/{}'.format(rfolder, mname)\n",
    "\n",
    "#aws.download_s3(rname, mname, bucket_name='ccurtis.data')"
   ]
  },
  {
   "cell_type": "code",
   "execution_count": 4,
   "metadata": {},
   "outputs": [],
   "source": [
    "test_image = sio.imread(mname)"
   ]
  },
  {
   "cell_type": "code",
   "execution_count": null,
   "metadata": {},
   "outputs": [],
   "source": [
    "sio.test_image[:, :, 0]"
   ]
  },
  {
   "cell_type": "code",
   "execution_count": null,
   "metadata": {},
   "outputs": [],
   "source": [
    "fig, ax = plt.subplots(figsize=(12, 12))\n",
    "ax.imshow(test_image[:, :, 2], cmap='gray', vmin=0, vmax=40)\n",
    "ax.axis('off')"
   ]
  },
  {
   "cell_type": "code",
   "execution_count": 5,
   "metadata": {},
   "outputs": [],
   "source": [
    "lfolder = '.'\n",
    "#bi_image = imp.binary_image(lfolder, mname, threshold=100, show=True, multichannel=True, channel=2)"
   ]
  },
  {
   "cell_type": "code",
   "execution_count": 6,
   "metadata": {},
   "outputs": [],
   "source": [
    "xmlfile = 'multipoints_S2.xml'\n",
    "xmlfull = '{}/{}'.format(rfolder, xmlfile)\n",
    "\n",
    "aws.download_s3(xmlfull, xmlfile, bucket_name='ccurtis.data')"
   ]
  },
  {
   "cell_type": "code",
   "execution_count": 7,
   "metadata": {},
   "outputs": [],
   "source": [
    "tree = et.parse(xmlfile)\n",
    "root = tree.getroot()"
   ]
  },
  {
   "cell_type": "code",
   "execution_count": 8,
   "metadata": {},
   "outputs": [],
   "source": [
    "y = []\n",
    "x = []\n",
    "counter = 0\n",
    "for point in root[0]:\n",
    "    if counter > 1:\n",
    "        y.append(float(point[2].attrib['value']))\n",
    "        x.append(float(point[3].attrib['value']))\n",
    "    counter = counter + 1"
   ]
  },
  {
   "cell_type": "code",
   "execution_count": 9,
   "metadata": {},
   "outputs": [],
   "source": [
    "yp = [int(np.round((i-1700)/0.62)) for i in y]"
   ]
  },
  {
   "cell_type": "code",
   "execution_count": 10,
   "metadata": {},
   "outputs": [],
   "source": [
    "xp = [int(np.round((i+10500)/0.62)) for i in x]"
   ]
  },
  {
   "cell_type": "code",
   "execution_count": 11,
   "metadata": {},
   "outputs": [
    {
     "name": "stderr",
     "output_type": "stream",
     "text": [
      "/home/ubuntu/miniconda3/lib/python3.6/site-packages/skimage/io/_io.py:132: UserWarning: test_image_0.tif is a low contrast image\n",
      "  warn('%s is a low contrast image' % fname)\n",
      "/home/ubuntu/miniconda3/lib/python3.6/site-packages/skimage/io/_io.py:132: UserWarning: test_image_1.tif is a low contrast image\n",
      "  warn('%s is a low contrast image' % fname)\n",
      "/home/ubuntu/miniconda3/lib/python3.6/site-packages/skimage/io/_io.py:132: UserWarning: test_image_3.tif is a low contrast image\n",
      "  warn('%s is a low contrast image' % fname)\n",
      "/home/ubuntu/miniconda3/lib/python3.6/site-packages/skimage/io/_io.py:132: UserWarning: test_image_8.tif is a low contrast image\n",
      "  warn('%s is a low contrast image' % fname)\n",
      "/home/ubuntu/miniconda3/lib/python3.6/site-packages/skimage/io/_io.py:132: UserWarning: test_image_9.tif is a low contrast image\n",
      "  warn('%s is a low contrast image' % fname)\n",
      "/home/ubuntu/miniconda3/lib/python3.6/site-packages/skimage/io/_io.py:132: UserWarning: test_image_14.tif is a low contrast image\n",
      "  warn('%s is a low contrast image' % fname)\n"
     ]
    }
   ],
   "source": [
    "test_images = []\n",
    "meanint = []\n",
    "dim = 512\n",
    "\n",
    "for i in range(0, len(xp)):\n",
    "    #print(test_image[xp[i], yp[i], 2])\n",
    "    xlo = int(xp[i]-dim/2)\n",
    "    xhi = int(xp[i]+dim/2)\n",
    "    ylo = int(yp[i]-dim/2)\n",
    "    yhi = int(yp[i]+dim/2)\n",
    "    image = test_image[xlo:xhi, ylo:yhi, 2]\n",
    "    selem1 = square(2)\n",
    "    selem2 = square(150)\n",
    "    fimage = image #rank.mean(image, selem=selem1) #- rank.mean(image, selem=selem2)\n",
    "    test_images.append(fimage)\n",
    "    sio.imsave('test_image_{}.tif'.format(i), fimage)\n",
    "    meanint.append(np.mean(fimage))"
   ]
  },
  {
   "cell_type": "code",
   "execution_count": null,
   "metadata": {},
   "outputs": [],
   "source": [
    "num = 11\n",
    "\n",
    "fig, ax = plt.subplots(figsize=(6, 6))\n",
    "ax.imshow(test_images[num], cmap='gray', vmin=0, vmax=200)\n",
    "ax.axis('off')"
   ]
  },
  {
   "cell_type": "code",
   "execution_count": null,
   "metadata": {},
   "outputs": [],
   "source": [
    "num = 11\n",
    "imp.binary_image('.', 'test_image_{}.tif'.format(num), threshold = 2*meanint[num], show=True, op_image=True, close=True)"
   ]
  },
  {
   "cell_type": "code",
   "execution_count": 48,
   "metadata": {},
   "outputs": [
    {
     "name": "stdout",
     "output_type": "stream",
     "text": [
      "3.10475158691\n",
      "50\n"
     ]
    },
    {
     "name": "stderr",
     "output_type": "stream",
     "text": [
      "/home/ubuntu/miniconda3/lib/python3.6/site-packages/skimage/util/dtype.py:118: UserWarning: Possible sign loss when converting negative image of type int64 to positive image of type uint8.\n",
      "  .format(dtypeobj_in, dtypeobj_out))\n",
      "/home/ubuntu/miniconda3/lib/python3.6/site-packages/skimage/util/dtype.py:171: UserWarning: Downcasting int64 to uint8 without scaling because max value 255 fits in uint8\n",
      "  \"value {} fits in {}\".format(a.dtype, dtype, a.max(), dtype))\n",
      "/home/ubuntu/miniconda3/lib/python3.6/site-packages/skimage/io/_io.py:132: UserWarning: ./short_clean_filt_test_image_13.png is a low contrast image\n",
      "  warn('%s is a low contrast image' % fname)\n"
     ]
    },
    {
     "data": {
      "image/png": "[encoded data removed]",
      "text/plain": [
       "<Figure size 720x720 with 1 Axes>"
      ]
     },
     "metadata": {},
     "output_type": "display_data"
    }
   ],
   "source": [
    "num = 13\n",
    "if meanint[num] > 5.5:\n",
    "    thresh = 2.5*meanint[num]\n",
    "else:\n",
    "    thresh = 50\n",
    "print(meanint[num])\n",
    "print(thresh)\n",
    "if meanint[num] > 0.01:\n",
    "    skeleton0, branch_data_short, nbranches, short_image, props = imp.skeleton_image('.', 'test_image_{}.tif'.format(num), threshold=thresh, show=True, disp_binary=True)\n",
    "else:\n",
    "    print('Low-intensity image')"
   ]
  },
  {
   "cell_type": "code",
   "execution_count": null,
   "metadata": {},
   "outputs": [],
   "source": [
    "meanint"
   ]
  },
  {
   "cell_type": "code",
   "execution_count": null,
   "metadata": {},
   "outputs": [],
   "source": [
    "sio.imshow(test_image[:, :, 2])"
   ]
  },
  {
   "cell_type": "code",
   "execution_count": null,
   "metadata": {},
   "outputs": [],
   "source": []
  }
 ],
 "metadata": {
  "kernelspec": {
   "display_name": "Python 3",
   "language": "python",
   "name": "python3"
  },
  "language_info": {
   "codemirror_mode": {
    "name": "ipython",
    "version": 3
   },
   "file_extension": ".py",
   "mimetype": "text/x-python",
   "name": "python",
   "nbconvert_exporter": "python",
   "pygments_lexer": "ipython3",
   "version": "3.6.3"
  }
 },
 "nbformat": 4,
 "nbformat_minor": 2
}
