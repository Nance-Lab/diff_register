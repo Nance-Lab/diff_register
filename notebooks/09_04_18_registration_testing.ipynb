{
 "cells": [
  {
   "cell_type": "code",
   "execution_count": 46,
   "metadata": {},
   "outputs": [],
   "source": [
    "import xml.etree.ElementTree as et\n",
    "import diff_register.register as reg\n",
    "import skimage.io as sio\n",
    "import numpy as np\n",
    "from skimage.morphology import opening, closing, square"
   ]
  },
  {
   "cell_type": "code",
   "execution_count": 59,
   "metadata": {},
   "outputs": [],
   "source": [
    "root = et.Element(\"variant\", version='1.0')\n",
    "doc = et.SubElement(root, \"no_name\", runtype='CLxListVariant')\n",
    "\n",
    "et.SubElement(doc, \"bIncludeZ\", runtype='bool', value='true')\n",
    "et.SubElement(doc, \"bPFSEnabled\", runtype='bool', value='false')\n",
    "\n",
    "point1 = et.SubElement(doc, \"Point00000\", runtype='NDSetupMultipointListItem')\n",
    "et.SubElement(point1, \"bChecked\", runtype=\"bool\", value='true')\n",
    "et.SubElement(point1, \"strName\", runtype=\"DLxStringW\", value='true')\n",
    "et.SubElement(point1, \"dXPosition\", runtype=\"double\", value='250.0')\n",
    "et.SubElement(point1, \"dYPosition\", runtype=\"double\", value='250.0')\n",
    "et.SubElement(point1, \"dZPosition\", runtype=\"double\", value='50.0')\n",
    "et.SubElement(point1, \"dPFSOffset\", runtype=\"double\", value='-1')\n",
    "et.SubElement(point1, \"baUserData\", runtype=\"CLxByteArray\", value='')\n",
    "\n",
    "point2 = et.SubElement(doc, \"Point00001\", runtype='NDSetupMultipointListItem')\n",
    "et.SubElement(point2, \"bChecked\", runtype=\"bool\", value='true')\n",
    "et.SubElement(point2, \"strName\", runtype=\"DLxStringW\", value='true')\n",
    "et.SubElement(point2, \"dXPosition\", runtype=\"double\", value='750.0')\n",
    "et.SubElement(point2, \"dYPosition\", runtype=\"double\", value='750.0')\n",
    "et.SubElement(point2, \"dZPosition\", runtype=\"double\", value='100.0')\n",
    "et.SubElement(point2, \"dPFSOffset\", runtype=\"double\", value='-1')\n",
    "et.SubElement(point2, \"baUserData\", runtype=\"CLxByteArray\", value='')\n",
    "\n",
    "tree = et.ElementTree(root)\n",
    "tree.write(\"testxml.xml\")"
   ]
  },
  {
   "cell_type": "code",
   "execution_count": 67,
   "metadata": {},
   "outputs": [],
   "source": [
    "np.random.seed(seed=1)\n",
    "testim = np.random.binomial(1, 0.1, size=(1000, 1000))\n",
    "testim = testim / np.max(testim)\n",
    "testim = opening(closing(closing(closing(closing(closing(testim, square(3)), square(3)), square(3)),\n",
    "                                 square(3)), square(3)), square(3))\n",
    "sio.imsave('cellim.tif', testim)\n",
    "\n",
    "xmlmod = reg.read_xmlpoints(xmlfile, 'cellim.tif', umppx=1, offset=(10, 0))\n",
    "\n",
    "xmlmod == [(760.0, 250.0), (260.0, 750.0)]"
   ]
  },
  {
   "cell_type": "code",
   "execution_count": null,
   "metadata": {},
   "outputs": [],
   "source": []
  }
 ],
 "metadata": {
  "kernelspec": {
   "display_name": "Python 3",
   "language": "python",
   "name": "python3"
  },
  "language_info": {
   "codemirror_mode": {
    "name": "ipython",
    "version": 3
   },
   "file_extension": ".py",
   "mimetype": "text/x-python",
   "name": "python",
   "nbconvert_exporter": "python",
   "pygments_lexer": "ipython3",
   "version": "3.6.3"
  }
 },
 "nbformat": 4,
 "nbformat_minor": 2
}
