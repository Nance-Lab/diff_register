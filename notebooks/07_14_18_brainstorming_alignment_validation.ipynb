{
 "cells": [
  {
   "cell_type": "markdown",
   "metadata": {},
   "source": [
    "1. Manually take confocal image at specified coordinates.\n",
    "2. Use diff_register code to extract same image from tilescan image.\n",
    "3. Convert both images to same coordinates.\n",
    "4. Compare the images using some algorithm (here: https://www.pyimagesearch.com/2014/09/15/python-compare-two-images/)"
   ]
  }
 ],
 "metadata": {
  "kernelspec": {
   "display_name": "Python 3",
   "language": "python",
   "name": "python3"
  },
  "language_info": {
   "codemirror_mode": {
    "name": "ipython",
    "version": 3
   },
   "file_extension": ".py",
   "mimetype": "text/x-python",
   "name": "python",
   "nbconvert_exporter": "python",
   "pygments_lexer": "ipython3",
   "version": "3.6.3"
  }
 },
 "nbformat": 4,
 "nbformat_minor": 2
}
