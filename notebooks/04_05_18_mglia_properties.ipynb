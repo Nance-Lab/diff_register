{
 "cells": [
  {
   "cell_type": "code",
   "execution_count": null,
   "metadata": {},
   "outputs": [],
   "source": [
    "from glob import glob\n",
    "import matplotlib.pyplot as plt\n",
    "import numpy as np\n",
    "import pandas as pd\n",
    "import skimage\n",
    "import diff_register.im_process as imp\n",
    "import skimage.io as sio\n",
    "import diff_classifier.aws as aws\n",
    "%matplotlib inline"
   ]
  },
  {
   "cell_type": "code",
   "execution_count": null,
   "metadata": {},
   "outputs": [],
   "source": [
    "rfolder = 'microglia'\n",
    "lfolder = 'data'\n",
    "fname = 'mglia_small'\n",
    "ext = 'tif'\n",
    "rfile = '{}/{}.{}'.format(rfolder, fname, ext)\n",
    "lfile = '{}/{}.{}'.format(lfolder, fname, ext)\n",
    "file = '{}.{}'.format(fname, ext)"
   ]
  },
  {
   "cell_type": "code",
   "execution_count": null,
   "metadata": {},
   "outputs": [],
   "source": [
    "skeleton0, branch_data_short, nbranches, short_image, props = imp.skeleton_image(lfolder, file, show=True)"
   ]
  },
  {
   "cell_type": "code",
   "execution_count": null,
   "metadata": {},
   "outputs": [],
   "source": [
    "X = np.zeros((len(props)))\n",
    "Y = np.zeros((len(props)))\n",
    "perimeter = np.zeros((len(props)))\n",
    "areas = np.zeros((len(props)))\n",
    "eccentricity = np.zeros((len(props)))\n",
    "inertia_tensor = [0]*len(props)\n",
    "label = [0]*len(props)\n",
    "max_intensity = np.zeros((len(props)))\n",
    "mean_intensity = np.zeros((len(props)))\n",
    "moments = [0]*len(props)\n",
    "solidity = np.zeros((len(props)))\n",
    "total_processes = np.zeros((len(props)))\n",
    "avg_p_ength = np.zeros((len(props)))\n",
    "main_process = np.zeros((len(props)))\n",
    "\n",
    "counter = 0\n",
    "for item in props:\n",
    "    X[counter] = item.centroid[0]\n",
    "    Y[counter] = item.centroid[1]\n",
    "    perimeter[counter] = item.perimeter\n",
    "    areas[counter] = item.area\n",
    "    eccentricity[counter] = item.eccentricity\n",
    "    inertia_tensor[counter] = item.inertia_tensor\n",
    "    label[counter] = item.label\n",
    "    #max_intensity[counter] = item.max_intensity\n",
    "    #mean_intensity[counter] = item.mean_intensity\n",
    "    moments[counter] = item.moments\n",
    "    solidity[counter] = item.solidity\n",
    "    counter = counter + 1\n",
    "\n",
    "features = pd.DataFrame({ 'X' : X,\n",
    "                          'Y' : Y,\n",
    "                          'perimeter' : perimeter,\n",
    "                          'area' : areas,\n",
    "                          'eccentricity' : eccentricity,\n",
    "                          'inertia_tensor' : inertia_tensor,\n",
    "                          'label' : label,\n",
    "                          #'max intensity' : max_intensity,\n",
    "                          #'mean intensity' : mean_intensity,\n",
    "                          'moments' : moments,\n",
    "                          'solidity' : solidity,\n",
    "                        })"
   ]
  },
  {
   "cell_type": "code",
   "execution_count": null,
   "metadata": {},
   "outputs": [],
   "source": [
    "features"
   ]
  },
  {
   "cell_type": "code",
   "execution_count": null,
   "metadata": {},
   "outputs": [],
   "source": [
    "mglia = branch_data_short['skeleton-id'].max()\n",
    "nbranches = []\n",
    "xs = []\n",
    "ys = []\n",
    "\n",
    "ncount = 0\n",
    "for i in branch_data_short['skeleton-id'].unique():\n",
    "    bcount = branch_data_short[branch_data_short['skeleton-id']==i]['skeleton-id'].count()\n",
    "    bavg = np.mean(branch_data_short[branch_data_short['skeleton-id']==i]['branch-distance'])\n",
    "    blong = np.max(branch_data_short[branch_data_short['skeleton-id']==i]['branch-distance'])\n",
    "    xcoord = np.mean([np.mean(branch_data_short[branch_data_short['skeleton-id']==i]['img-coord-0-0']), \n",
    "                     np.mean(branch_data_short[branch_data_short['skeleton-id']==i]['img-coord-1-0'])])\n",
    "    xs.append(xcoord)\n",
    "    ycoord = np.mean([np.mean(branch_data_short[branch_data_short['skeleton-id']==i]['img-coord-0-1']), \n",
    "                     np.mean(branch_data_short[branch_data_short['skeleton-id']==i]['img-coord-1-1'])])\n",
    "    ys.append(ycoord)\n",
    "    nbranches.append(bcount)"
   ]
  },
  {
   "cell_type": "code",
   "execution_count": null,
   "metadata": {},
   "outputs": [],
   "source": [
    "nbranches_ord = [0]*len(nbranches)\n",
    "nbranches_ord = [0]*len(nbranches)\n",
    "nbranches_ord = [0]*len(nbranches)\n",
    "\n",
    "for i in range(0, len(xs)):\n",
    "    #print(xs[i], ys[i])\n",
    "    skel_id = i\n",
    "    min_function = np.square(xs[i] - features['X'])+np.square(ys[i] - features['Y'])\n",
    "    mglia_id = np.argmin(min_function)\n",
    "    nbranches_ord[mglia_id] = nbranches[skel_id]\n",
    "    #print(mglia_id)\n",
    "    #print(np.min(min_function))"
   ]
  },
  {
   "cell_type": "code",
   "execution_count": null,
   "metadata": {},
   "outputs": [],
   "source": [
    "for i in range(0, features.shape[0]):\n",
    "    print(np.min(np.square(features['X'])))"
   ]
  },
  {
   "cell_type": "code",
   "execution_count": null,
   "metadata": {},
   "outputs": [],
   "source": [
    "nbranches_ord"
   ]
  },
  {
   "cell_type": "code",
   "execution_count": null,
   "metadata": {},
   "outputs": [],
   "source": [
    "branch_data_short"
   ]
  },
  {
   "cell_type": "code",
   "execution_count": null,
   "metadata": {},
   "outputs": [],
   "source": []
  }
 ],
 "metadata": {
  "kernelspec": {
   "display_name": "Python 3",
   "language": "python",
   "name": "python3"
  },
  "language_info": {
   "codemirror_mode": {
    "name": "ipython",
    "version": 3
   },
   "file_extension": ".py",
   "mimetype": "text/x-python",
   "name": "python",
   "nbconvert_exporter": "python",
   "pygments_lexer": "ipython3",
   "version": "3.6.3"
  }
 },
 "nbformat": 4,
 "nbformat_minor": 2
}
